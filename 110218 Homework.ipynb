{
 "cells": [
  {
   "cell_type": "code",
   "execution_count": 2,
   "metadata": {},
   "outputs": [
    {
     "name": "stdout",
     "output_type": "stream",
     "text": [
      " the process took 2.602 seconds\n"
     ]
    }
   ],
   "source": [
    "import time\n",
    "\n",
    "a = 0  # will be used in my loop\n",
    "\n",
    "t1 = time.process_time() # get the current time\n",
    "\n",
    "for i in range(0,10000000):  # a statement to test\n",
    "    a = a  + 1\n",
    "    \n",
    "elapsed = time.process_time() - t1 \n",
    "\n",
    "print(' the process took {0:.3f} seconds'.format(elapsed))"
   ]
  },
  {
   "cell_type": "code",
   "execution_count": 3,
   "metadata": {},
   "outputs": [
    {
     "data": {
      "text/plain": [
       "6.591796998000007"
      ]
     },
     "execution_count": 3,
     "metadata": {},
     "output_type": "execute_result"
    }
   ],
   "source": [
    "import timeit \n",
    "\n",
    "# note timeit runs the statement 1,000,000 times by default, so \n",
    "# I use a shorter loop\n",
    "\n",
    "stmt = \"\"\"\\\n",
    "for i in range(0,100):  # a statement to test\n",
    "    a = a  + 1\n",
    "\"\"\"\n",
    "\n",
    "timeit.timeit(stmt, setup='a = 0')\n"
   ]
  },
  {
   "cell_type": "code",
   "execution_count": 19,
   "metadata": {},
   "outputs": [
    {
     "name": "stdout",
     "output_type": "stream",
     "text": [
      " the process took 2.488 seconds\n"
     ]
    }
   ],
   "source": [
    "import time\n",
    "\n",
    "a = 0  # will be used in my loop\n",
    "\n",
    "t1 = time.process_time() # get the current time\n",
    "\n",
    "for i in range(0,10000000):  # a statement to test\n",
    "    list=[1,2,3]\n",
    "    \n",
    "elapsed = time.process_time() - t1 \n",
    "\n",
    "print(' the process took {0:.3f} seconds'.format(elapsed))"
   ]
  },
  {
   "cell_type": "code",
   "execution_count": 20,
   "metadata": {},
   "outputs": [
    {
     "data": {
      "text/plain": [
       "7.1808303089997025"
      ]
     },
     "execution_count": 20,
     "metadata": {},
     "output_type": "execute_result"
    }
   ],
   "source": [
    "import timeit \n",
    "\n",
    "stmt = \"\"\"\\\n",
    "for i in range(0,100): \n",
    "    list=[1,2,3]\n",
    "\"\"\"\n",
    "\n",
    "timeit.timeit(stmt, setup='a = 0')\n"
   ]
  },
  {
   "cell_type": "code",
   "execution_count": 16,
   "metadata": {},
   "outputs": [
    {
     "name": "stdout",
     "output_type": "stream",
     "text": [
      " the process took 1.556 seconds\n"
     ]
    }
   ],
   "source": [
    "import time\n",
    "\n",
    "a = 0  # will be used in my loop\n",
    "\n",
    "t1 = time.process_time() # get the current time\n",
    "\n",
    "for i in range(0,10000000):  # a statement to test\n",
    "    tup=(1,2,3)\n",
    "    \n",
    "elapsed = time.process_time() - t1 \n",
    "\n",
    "print(' the process took {0:.3f} seconds'.format(elapsed))"
   ]
  },
  {
   "cell_type": "code",
   "execution_count": 10,
   "metadata": {},
   "outputs": [
    {
     "data": {
      "text/plain": [
       "2.640226777999942"
      ]
     },
     "execution_count": 10,
     "metadata": {},
     "output_type": "execute_result"
    }
   ],
   "source": [
    "import timeit \n",
    "\n",
    "# note timeit runs the statement 1,000,000 times by default, so \n",
    "# I use a shorter loop\n",
    "\n",
    "stmt = \"\"\"\\\n",
    "for i in range(0,100):  # a statement to test\n",
    "    tup=(1,2,3)\n",
    "\"\"\"\n",
    "\n",
    "timeit.timeit(stmt, setup='a = 0')"
   ]
  },
  {
   "cell_type": "code",
   "execution_count": 21,
   "metadata": {},
   "outputs": [
    {
     "data": {
      "text/plain": [
       "2.5256203530002495"
      ]
     },
     "execution_count": 21,
     "metadata": {},
     "output_type": "execute_result"
    }
   ],
   "source": [
    "import timeit \n",
    "\n",
    "stmt = \"\"\"\\\n",
    "for i in range(0,10): \n",
    "    list1=[1,2,3]\n",
    "    list2=[4,5,6]\n",
    "    list3=list1 + list2\n",
    "\"\"\"\n",
    "\n",
    "timeit.timeit(stmt, setup='a = 0')"
   ]
  },
  {
   "cell_type": "code",
   "execution_count": 14,
   "metadata": {},
   "outputs": [
    {
     "data": {
      "text/plain": [
       "1.1715069430001677"
      ]
     },
     "execution_count": 14,
     "metadata": {},
     "output_type": "execute_result"
    }
   ],
   "source": [
    "import timeit \n",
    "\n",
    "stmt = \"\"\"\\\n",
    "for i in range(0,10): \n",
    "    tup1=(1,2,3)\n",
    "    tup2=(4,5,6)\n",
    "    tup3=tup1 + tup2\n",
    "\"\"\"\n",
    "\n",
    "timeit.timeit(stmt, setup='a = 0')"
   ]
  },
  {
   "cell_type": "code",
   "execution_count": 23,
   "metadata": {},
   "outputs": [
    {
     "name": "stdout",
     "output_type": "stream",
     "text": [
      " the process took 8.053 seconds\n",
      "[1, 2, 3, 4]\n"
     ]
    }
   ],
   "source": [
    "a = 0  # will be used in my loop\n",
    "\n",
    "t1 = time.process_time() # get the current time\n",
    "\n",
    "for i in range(0,10000000):  # a statement to test\n",
    "    list1=[1,2,4]\n",
    "    list1.append(3)\n",
    "    list1.sort()\n",
    "    \n",
    "elapsed = time.process_time() - t1 \n",
    "\n",
    "print(' the process took {0:.3f} seconds'.format(elapsed))\n",
    "print(list1)"
   ]
  },
  {
   "cell_type": "code",
   "execution_count": 31,
   "metadata": {},
   "outputs": [
    {
     "name": "stdout",
     "output_type": "stream",
     "text": [
      " the process took 8.804 seconds\n",
      "[1, 2, 3, 4]\n"
     ]
    }
   ],
   "source": [
    "a = 0  # will be used in my loop\n",
    "\n",
    "t1 = time.process_time() # get the current time\n",
    "\n",
    "for i in range(0,10000000):  # a statement to test\n",
    "    list1=[1,2,4]\n",
    "    bisect.insort(list1,3)\n",
    "    \n",
    "elapsed = time.process_time() - t1 \n",
    "\n",
    "print(' the process took {0:.3f} seconds'.format(elapsed))\n",
    "print(list1)"
   ]
  },
  {
   "cell_type": "code",
   "execution_count": null,
   "metadata": {},
   "outputs": [],
   "source": []
  }
 ],
 "metadata": {
  "kernelspec": {
   "display_name": "Python 3",
   "language": "python",
   "name": "python3"
  },
  "language_info": {
   "codemirror_mode": {
    "name": "ipython",
    "version": 3
   },
   "file_extension": ".py",
   "mimetype": "text/x-python",
   "name": "python",
   "nbconvert_exporter": "python",
   "pygments_lexer": "ipython3",
   "version": "3.7.0"
  }
 },
 "nbformat": 4,
 "nbformat_minor": 2
}
